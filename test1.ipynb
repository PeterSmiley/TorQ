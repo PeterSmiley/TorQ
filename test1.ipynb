{
 "cells": [
  {
   "cell_type": "markdown",
   "metadata": {},
   "source": [
    "# Process Checks"
   ]
  },
  {
   "cell_type": "code",
   "execution_count": 9,
   "metadata": {},
   "outputs": [
    {
     "data": {
      "text/html": [
       "<script>\n",
       "code_show=true; \n",
       "function code_toggle() {\n",
       " if (code_show){\n",
       " $('div.input').hide();\n",
       " } else {\n",
       " $('div.input').show();\n",
       " }\n",
       " code_show = !code_show\n",
       "} \n",
       "$( document ).ready(code_toggle);\n",
       "</script>\n",
       "The raw code for this IPython notebook is by default hidden for easier reading.\n",
       "To toggle on/off the raw code, click <a href=\"javascript:code_toggle()\">here</a>."
      ],
      "text/plain": [
       "<IPython.core.display.HTML object>"
      ]
     },
     "execution_count": 9,
     "metadata": {},
     "output_type": "execute_result"
    }
   ],
   "source": [
    "from IPython.display import HTML\n",
    "HTML('''<script>\n",
    "code_show=true; \n",
    "function code_toggle() {\n",
    " if (code_show){\n",
    " $('div.input').hide();\n",
    " } else {\n",
    " $('div.input').show();\n",
    " }\n",
    " code_show = !code_show\n",
    "} \n",
    "$( document ).ready(code_toggle);\n",
    "</script>\n",
    "The raw code for this IPython notebook is by default hidden for easier reading.\n",
    "To toggle on/off the raw code, click <a href=\"javascript:code_toggle()\">here</a>.''')"
   ]
  },
  {
   "cell_type": "markdown",
   "metadata": {},
   "source": [
    "## Tickerplant code"
   ]
  },
  {
   "cell_type": "code",
   "execution_count": 26,
   "metadata": {},
   "outputs": [
    {
     "name": "stdout",
     "output_type": "stream",
     "text": [
      "Credentials required are host, username, password\n",
      "\t host:localhost username: admin password: admin.\n",
      "Processed 2 lines.\n"
     ]
    }
   ],
   "source": [
    "from qpython.qconnection import QConnection as qcon\n",
    "from qpython.qcollection import QDictionary as qdict\n",
    "import time\n",
    "import numpy as np\n",
    "import pandas as pd\n",
    "import matplotlib.pyplot as plt\n",
    "%matplotlib inline\n",
    "\n",
    "#set qcon variables\n",
    "import csv\n",
    "with open('credentials.csv') as csv_file:\n",
    "    csv_reader = csv.reader(csv_file, delimiter=',')\n",
    "    line_count = 0\n",
    "    for row in csv_reader:\n",
    "        if line_count == 0:\n",
    "            print(f'Credentials required are {\", \".join(row)}')\n",
    "            line_count += 1\n",
    "        else:\n",
    "            host=row[0]\n",
    "            un=row[1]\n",
    "            pswd=row[2]\n",
    "            print(f'\\t host:{row[0]} username: {row[1]} password: {row[2]}.')\n",
    "            line_count += 1\n",
    "    print(f'Processed {line_count} lines.')      \n",
    "                  "
   ]
  },
  {
   "cell_type": "code",
   "execution_count": 11,
   "metadata": {},
   "outputs": [],
   "source": [
    "#run torq summary\n",
    "torq_sum= ! \"$(cd \"$(dirname \"${BASH_SOURCE[0]}\")\" && pwd)\"/torq.sh summary\n",
    "\n",
    "#convert array to numpy array\n",
    "summary=np.asarray(torq_sum)\n",
    "\n",
    "#split each element of array by | character\n",
    "sum_list = [i.split('|') for i in summary]\n",
    "df = pd.DataFrame(sum_list)\n",
    "\n",
    "# take first row and use as header for df\n",
    "new_header = df.iloc[0]\n",
    "df = df[1:]\n",
    "df.columns = new_header\n",
    "\n",
    "#trim whitespace from headers\n",
    "cols=[]\n",
    "for i in df.columns:\n",
    "    cols.append(str.strip(i))\n",
    "df.columns=cols\n",
    "\n",
    "#trim whitespace from all objects within dataframe\n",
    "data = df.select_dtypes(['object'])\n",
    "df[data.columns] = df.apply(lambda x: x.str.strip())\n",
    "\n",
    "# function to extract the port number for each process - takes a string argument\n",
    "def find_portno(process):\n",
    "    process_info = df.loc[df['PROCESS'] == process]\n",
    "    PORT = process_info['PORT'].astype(str).astype(int)\n",
    "    return PORT\n",
    "\n",
    "#function to decode bytes to strings\n",
    "def byte_decode(table,cols):\n",
    "    table[cols] = table[cols].applymap(lambda x: x.decode('utf-8'))"
   ]
  },
  {
   "cell_type": "markdown",
   "metadata": {},
   "source": [
    "### Process Summary\n",
    "\n",
    "Table showing process name, status, PID and Port number.\n",
    "* Process status indicated by colours green (up) and red (down).\n",
    "* Killtick, tpreplay1 and compression1 should usually have a down status indicated."
   ]
  },
  {
   "cell_type": "code",
   "execution_count": 12,
   "metadata": {},
   "outputs": [
    {
     "data": {
      "text/html": [
       "<style  type=\"text/css\" >\n",
       "    #T_be6454ce_f66e_11e9_929d_000c29f689c0row0_col2 {\n",
       "            color:  green;\n",
       "        }    #T_be6454ce_f66e_11e9_929d_000c29f689c0row1_col2 {\n",
       "            color:  green;\n",
       "        }    #T_be6454ce_f66e_11e9_929d_000c29f689c0row2_col2 {\n",
       "            color:  green;\n",
       "        }    #T_be6454ce_f66e_11e9_929d_000c29f689c0row3_col2 {\n",
       "            color:  green;\n",
       "        }    #T_be6454ce_f66e_11e9_929d_000c29f689c0row4_col2 {\n",
       "            color:  green;\n",
       "        }    #T_be6454ce_f66e_11e9_929d_000c29f689c0row5_col2 {\n",
       "            color:  green;\n",
       "        }    #T_be6454ce_f66e_11e9_929d_000c29f689c0row6_col2 {\n",
       "            color:  green;\n",
       "        }    #T_be6454ce_f66e_11e9_929d_000c29f689c0row7_col2 {\n",
       "            color:  green;\n",
       "        }    #T_be6454ce_f66e_11e9_929d_000c29f689c0row8_col2 {\n",
       "            color:  red;\n",
       "        }    #T_be6454ce_f66e_11e9_929d_000c29f689c0row9_col2 {\n",
       "            color:  green;\n",
       "        }    #T_be6454ce_f66e_11e9_929d_000c29f689c0row10_col2 {\n",
       "            color:  red;\n",
       "        }    #T_be6454ce_f66e_11e9_929d_000c29f689c0row11_col2 {\n",
       "            color:  green;\n",
       "        }    #T_be6454ce_f66e_11e9_929d_000c29f689c0row12_col2 {\n",
       "            color:  green;\n",
       "        }    #T_be6454ce_f66e_11e9_929d_000c29f689c0row13_col2 {\n",
       "            color:  red;\n",
       "        }    #T_be6454ce_f66e_11e9_929d_000c29f689c0row14_col2 {\n",
       "            color:  green;\n",
       "        }    #T_be6454ce_f66e_11e9_929d_000c29f689c0row15_col2 {\n",
       "            color:  green;\n",
       "        }    #T_be6454ce_f66e_11e9_929d_000c29f689c0row16_col2 {\n",
       "            color:  green;\n",
       "        }    #T_be6454ce_f66e_11e9_929d_000c29f689c0row17_col2 {\n",
       "            color:  green;\n",
       "        }    #T_be6454ce_f66e_11e9_929d_000c29f689c0row18_col2 {\n",
       "            color:  green;\n",
       "        }    #T_be6454ce_f66e_11e9_929d_000c29f689c0row19_col2 {\n",
       "            color:  green;\n",
       "        }</style><table id=\"T_be6454ce_f66e_11e9_929d_000c29f689c0\" ><thead>    <tr>        <th class=\"blank level0\" ></th>        <th class=\"col_heading level0 col0\" >TIME</th>        <th class=\"col_heading level0 col1\" >PROCESS</th>        <th class=\"col_heading level0 col2\" >STATUS</th>        <th class=\"col_heading level0 col3\" >PID</th>        <th class=\"col_heading level0 col4\" >PORT</th>    </tr></thead><tbody>\n",
       "                <tr>\n",
       "                        <th id=\"T_be6454ce_f66e_11e9_929d_000c29f689c0level0_row0\" class=\"row_heading level0 row0\" >1</th>\n",
       "                        <td id=\"T_be6454ce_f66e_11e9_929d_000c29f689c0row0_col0\" class=\"data row0 col0\" >15:58:29</td>\n",
       "                        <td id=\"T_be6454ce_f66e_11e9_929d_000c29f689c0row0_col1\" class=\"data row0 col1\" >discovery1</td>\n",
       "                        <td id=\"T_be6454ce_f66e_11e9_929d_000c29f689c0row0_col2\" class=\"data row0 col2\" >up</td>\n",
       "                        <td id=\"T_be6454ce_f66e_11e9_929d_000c29f689c0row0_col3\" class=\"data row0 col3\" >74174</td>\n",
       "                        <td id=\"T_be6454ce_f66e_11e9_929d_000c29f689c0row0_col4\" class=\"data row0 col4\" >1701</td>\n",
       "            </tr>\n",
       "            <tr>\n",
       "                        <th id=\"T_be6454ce_f66e_11e9_929d_000c29f689c0level0_row1\" class=\"row_heading level0 row1\" >2</th>\n",
       "                        <td id=\"T_be6454ce_f66e_11e9_929d_000c29f689c0row1_col0\" class=\"data row1 col0\" >15:58:30</td>\n",
       "                        <td id=\"T_be6454ce_f66e_11e9_929d_000c29f689c0row1_col1\" class=\"data row1 col1\" >tickerplant1</td>\n",
       "                        <td id=\"T_be6454ce_f66e_11e9_929d_000c29f689c0row1_col2\" class=\"data row1 col2\" >up</td>\n",
       "                        <td id=\"T_be6454ce_f66e_11e9_929d_000c29f689c0row1_col3\" class=\"data row1 col3\" >74266</td>\n",
       "                        <td id=\"T_be6454ce_f66e_11e9_929d_000c29f689c0row1_col4\" class=\"data row1 col4\" >1700</td>\n",
       "            </tr>\n",
       "            <tr>\n",
       "                        <th id=\"T_be6454ce_f66e_11e9_929d_000c29f689c0level0_row2\" class=\"row_heading level0 row2\" >3</th>\n",
       "                        <td id=\"T_be6454ce_f66e_11e9_929d_000c29f689c0row2_col0\" class=\"data row2 col0\" >15:58:30</td>\n",
       "                        <td id=\"T_be6454ce_f66e_11e9_929d_000c29f689c0row2_col1\" class=\"data row2 col1\" >rdb1</td>\n",
       "                        <td id=\"T_be6454ce_f66e_11e9_929d_000c29f689c0row2_col2\" class=\"data row2 col2\" >up</td>\n",
       "                        <td id=\"T_be6454ce_f66e_11e9_929d_000c29f689c0row2_col3\" class=\"data row2 col3\" >74356</td>\n",
       "                        <td id=\"T_be6454ce_f66e_11e9_929d_000c29f689c0row2_col4\" class=\"data row2 col4\" >1702</td>\n",
       "            </tr>\n",
       "            <tr>\n",
       "                        <th id=\"T_be6454ce_f66e_11e9_929d_000c29f689c0level0_row3\" class=\"row_heading level0 row3\" >4</th>\n",
       "                        <td id=\"T_be6454ce_f66e_11e9_929d_000c29f689c0row3_col0\" class=\"data row3 col0\" >15:58:30</td>\n",
       "                        <td id=\"T_be6454ce_f66e_11e9_929d_000c29f689c0row3_col1\" class=\"data row3 col1\" >hdb1</td>\n",
       "                        <td id=\"T_be6454ce_f66e_11e9_929d_000c29f689c0row3_col2\" class=\"data row3 col2\" >up</td>\n",
       "                        <td id=\"T_be6454ce_f66e_11e9_929d_000c29f689c0row3_col3\" class=\"data row3 col3\" >74448</td>\n",
       "                        <td id=\"T_be6454ce_f66e_11e9_929d_000c29f689c0row3_col4\" class=\"data row3 col4\" >1703</td>\n",
       "            </tr>\n",
       "            <tr>\n",
       "                        <th id=\"T_be6454ce_f66e_11e9_929d_000c29f689c0level0_row4\" class=\"row_heading level0 row4\" >5</th>\n",
       "                        <td id=\"T_be6454ce_f66e_11e9_929d_000c29f689c0row4_col0\" class=\"data row4 col0\" >15:58:30</td>\n",
       "                        <td id=\"T_be6454ce_f66e_11e9_929d_000c29f689c0row4_col1\" class=\"data row4 col1\" >hdb2</td>\n",
       "                        <td id=\"T_be6454ce_f66e_11e9_929d_000c29f689c0row4_col2\" class=\"data row4 col2\" >up</td>\n",
       "                        <td id=\"T_be6454ce_f66e_11e9_929d_000c29f689c0row4_col3\" class=\"data row4 col3\" >74540</td>\n",
       "                        <td id=\"T_be6454ce_f66e_11e9_929d_000c29f689c0row4_col4\" class=\"data row4 col4\" >1704</td>\n",
       "            </tr>\n",
       "            <tr>\n",
       "                        <th id=\"T_be6454ce_f66e_11e9_929d_000c29f689c0level0_row5\" class=\"row_heading level0 row5\" >6</th>\n",
       "                        <td id=\"T_be6454ce_f66e_11e9_929d_000c29f689c0row5_col0\" class=\"data row5 col0\" >15:58:30</td>\n",
       "                        <td id=\"T_be6454ce_f66e_11e9_929d_000c29f689c0row5_col1\" class=\"data row5 col1\" >wdb1</td>\n",
       "                        <td id=\"T_be6454ce_f66e_11e9_929d_000c29f689c0row5_col2\" class=\"data row5 col2\" >up</td>\n",
       "                        <td id=\"T_be6454ce_f66e_11e9_929d_000c29f689c0row5_col3\" class=\"data row5 col3\" >74632</td>\n",
       "                        <td id=\"T_be6454ce_f66e_11e9_929d_000c29f689c0row5_col4\" class=\"data row5 col4\" >1705</td>\n",
       "            </tr>\n",
       "            <tr>\n",
       "                        <th id=\"T_be6454ce_f66e_11e9_929d_000c29f689c0level0_row6\" class=\"row_heading level0 row6\" >7</th>\n",
       "                        <td id=\"T_be6454ce_f66e_11e9_929d_000c29f689c0row6_col0\" class=\"data row6 col0\" >15:58:30</td>\n",
       "                        <td id=\"T_be6454ce_f66e_11e9_929d_000c29f689c0row6_col1\" class=\"data row6 col1\" >sort1</td>\n",
       "                        <td id=\"T_be6454ce_f66e_11e9_929d_000c29f689c0row6_col2\" class=\"data row6 col2\" >up</td>\n",
       "                        <td id=\"T_be6454ce_f66e_11e9_929d_000c29f689c0row6_col3\" class=\"data row6 col3\" >74726</td>\n",
       "                        <td id=\"T_be6454ce_f66e_11e9_929d_000c29f689c0row6_col4\" class=\"data row6 col4\" >1706</td>\n",
       "            </tr>\n",
       "            <tr>\n",
       "                        <th id=\"T_be6454ce_f66e_11e9_929d_000c29f689c0level0_row7\" class=\"row_heading level0 row7\" >8</th>\n",
       "                        <td id=\"T_be6454ce_f66e_11e9_929d_000c29f689c0row7_col0\" class=\"data row7 col0\" >15:58:30</td>\n",
       "                        <td id=\"T_be6454ce_f66e_11e9_929d_000c29f689c0row7_col1\" class=\"data row7 col1\" >gateway1</td>\n",
       "                        <td id=\"T_be6454ce_f66e_11e9_929d_000c29f689c0row7_col2\" class=\"data row7 col2\" >up</td>\n",
       "                        <td id=\"T_be6454ce_f66e_11e9_929d_000c29f689c0row7_col3\" class=\"data row7 col3\" >74818</td>\n",
       "                        <td id=\"T_be6454ce_f66e_11e9_929d_000c29f689c0row7_col4\" class=\"data row7 col4\" >1707</td>\n",
       "            </tr>\n",
       "            <tr>\n",
       "                        <th id=\"T_be6454ce_f66e_11e9_929d_000c29f689c0level0_row8\" class=\"row_heading level0 row8\" >9</th>\n",
       "                        <td id=\"T_be6454ce_f66e_11e9_929d_000c29f689c0row8_col0\" class=\"data row8 col0\" >15:58:30</td>\n",
       "                        <td id=\"T_be6454ce_f66e_11e9_929d_000c29f689c0row8_col1\" class=\"data row8 col1\" >killtick</td>\n",
       "                        <td id=\"T_be6454ce_f66e_11e9_929d_000c29f689c0row8_col2\" class=\"data row8 col2\" >down</td>\n",
       "                        <td id=\"T_be6454ce_f66e_11e9_929d_000c29f689c0row8_col3\" class=\"data row8 col3\" ></td>\n",
       "                        <td id=\"T_be6454ce_f66e_11e9_929d_000c29f689c0row8_col4\" class=\"data row8 col4\" >None</td>\n",
       "            </tr>\n",
       "            <tr>\n",
       "                        <th id=\"T_be6454ce_f66e_11e9_929d_000c29f689c0level0_row9\" class=\"row_heading level0 row9\" >10</th>\n",
       "                        <td id=\"T_be6454ce_f66e_11e9_929d_000c29f689c0row9_col0\" class=\"data row9 col0\" >15:58:30</td>\n",
       "                        <td id=\"T_be6454ce_f66e_11e9_929d_000c29f689c0row9_col1\" class=\"data row9 col1\" >monitor1</td>\n",
       "                        <td id=\"T_be6454ce_f66e_11e9_929d_000c29f689c0row9_col2\" class=\"data row9 col2\" >up</td>\n",
       "                        <td id=\"T_be6454ce_f66e_11e9_929d_000c29f689c0row9_col3\" class=\"data row9 col3\" >74910</td>\n",
       "                        <td id=\"T_be6454ce_f66e_11e9_929d_000c29f689c0row9_col4\" class=\"data row9 col4\" >1709</td>\n",
       "            </tr>\n",
       "            <tr>\n",
       "                        <th id=\"T_be6454ce_f66e_11e9_929d_000c29f689c0level0_row10\" class=\"row_heading level0 row10\" >11</th>\n",
       "                        <td id=\"T_be6454ce_f66e_11e9_929d_000c29f689c0row10_col0\" class=\"data row10 col0\" >15:58:30</td>\n",
       "                        <td id=\"T_be6454ce_f66e_11e9_929d_000c29f689c0row10_col1\" class=\"data row10 col1\" >tpreplay1</td>\n",
       "                        <td id=\"T_be6454ce_f66e_11e9_929d_000c29f689c0row10_col2\" class=\"data row10 col2\" >down</td>\n",
       "                        <td id=\"T_be6454ce_f66e_11e9_929d_000c29f689c0row10_col3\" class=\"data row10 col3\" ></td>\n",
       "                        <td id=\"T_be6454ce_f66e_11e9_929d_000c29f689c0row10_col4\" class=\"data row10 col4\" >None</td>\n",
       "            </tr>\n",
       "            <tr>\n",
       "                        <th id=\"T_be6454ce_f66e_11e9_929d_000c29f689c0level0_row11\" class=\"row_heading level0 row11\" >12</th>\n",
       "                        <td id=\"T_be6454ce_f66e_11e9_929d_000c29f689c0row11_col0\" class=\"data row11 col0\" >15:58:30</td>\n",
       "                        <td id=\"T_be6454ce_f66e_11e9_929d_000c29f689c0row11_col1\" class=\"data row11 col1\" >housekeeping1</td>\n",
       "                        <td id=\"T_be6454ce_f66e_11e9_929d_000c29f689c0row11_col2\" class=\"data row11 col2\" >up</td>\n",
       "                        <td id=\"T_be6454ce_f66e_11e9_929d_000c29f689c0row11_col3\" class=\"data row11 col3\" >75002</td>\n",
       "                        <td id=\"T_be6454ce_f66e_11e9_929d_000c29f689c0row11_col4\" class=\"data row11 col4\" >1711</td>\n",
       "            </tr>\n",
       "            <tr>\n",
       "                        <th id=\"T_be6454ce_f66e_11e9_929d_000c29f689c0level0_row12\" class=\"row_heading level0 row12\" >13</th>\n",
       "                        <td id=\"T_be6454ce_f66e_11e9_929d_000c29f689c0row12_col0\" class=\"data row12 col0\" >15:58:30</td>\n",
       "                        <td id=\"T_be6454ce_f66e_11e9_929d_000c29f689c0row12_col1\" class=\"data row12 col1\" >reporter1</td>\n",
       "                        <td id=\"T_be6454ce_f66e_11e9_929d_000c29f689c0row12_col2\" class=\"data row12 col2\" >up</td>\n",
       "                        <td id=\"T_be6454ce_f66e_11e9_929d_000c29f689c0row12_col3\" class=\"data row12 col3\" >75094</td>\n",
       "                        <td id=\"T_be6454ce_f66e_11e9_929d_000c29f689c0row12_col4\" class=\"data row12 col4\" >1712</td>\n",
       "            </tr>\n",
       "            <tr>\n",
       "                        <th id=\"T_be6454ce_f66e_11e9_929d_000c29f689c0level0_row13\" class=\"row_heading level0 row13\" >14</th>\n",
       "                        <td id=\"T_be6454ce_f66e_11e9_929d_000c29f689c0row13_col0\" class=\"data row13 col0\" >15:58:30</td>\n",
       "                        <td id=\"T_be6454ce_f66e_11e9_929d_000c29f689c0row13_col1\" class=\"data row13 col1\" >compression1</td>\n",
       "                        <td id=\"T_be6454ce_f66e_11e9_929d_000c29f689c0row13_col2\" class=\"data row13 col2\" >down</td>\n",
       "                        <td id=\"T_be6454ce_f66e_11e9_929d_000c29f689c0row13_col3\" class=\"data row13 col3\" ></td>\n",
       "                        <td id=\"T_be6454ce_f66e_11e9_929d_000c29f689c0row13_col4\" class=\"data row13 col4\" >None</td>\n",
       "            </tr>\n",
       "            <tr>\n",
       "                        <th id=\"T_be6454ce_f66e_11e9_929d_000c29f689c0level0_row14\" class=\"row_heading level0 row14\" >15</th>\n",
       "                        <td id=\"T_be6454ce_f66e_11e9_929d_000c29f689c0row14_col0\" class=\"data row14 col0\" >15:58:30</td>\n",
       "                        <td id=\"T_be6454ce_f66e_11e9_929d_000c29f689c0row14_col1\" class=\"data row14 col1\" >feed1</td>\n",
       "                        <td id=\"T_be6454ce_f66e_11e9_929d_000c29f689c0row14_col2\" class=\"data row14 col2\" >up</td>\n",
       "                        <td id=\"T_be6454ce_f66e_11e9_929d_000c29f689c0row14_col3\" class=\"data row14 col3\" >75276</td>\n",
       "                        <td id=\"T_be6454ce_f66e_11e9_929d_000c29f689c0row14_col4\" class=\"data row14 col4\" >1714</td>\n",
       "            </tr>\n",
       "            <tr>\n",
       "                        <th id=\"T_be6454ce_f66e_11e9_929d_000c29f689c0level0_row15\" class=\"row_heading level0 row15\" >16</th>\n",
       "                        <td id=\"T_be6454ce_f66e_11e9_929d_000c29f689c0row15_col0\" class=\"data row15 col0\" >15:58:30</td>\n",
       "                        <td id=\"T_be6454ce_f66e_11e9_929d_000c29f689c0row15_col1\" class=\"data row15 col1\" >chainedtp1</td>\n",
       "                        <td id=\"T_be6454ce_f66e_11e9_929d_000c29f689c0row15_col2\" class=\"data row15 col2\" >up</td>\n",
       "                        <td id=\"T_be6454ce_f66e_11e9_929d_000c29f689c0row15_col3\" class=\"data row15 col3\" >75368</td>\n",
       "                        <td id=\"T_be6454ce_f66e_11e9_929d_000c29f689c0row15_col4\" class=\"data row15 col4\" >1715</td>\n",
       "            </tr>\n",
       "            <tr>\n",
       "                        <th id=\"T_be6454ce_f66e_11e9_929d_000c29f689c0level0_row16\" class=\"row_heading level0 row16\" >17</th>\n",
       "                        <td id=\"T_be6454ce_f66e_11e9_929d_000c29f689c0row16_col0\" class=\"data row16 col0\" >15:58:30</td>\n",
       "                        <td id=\"T_be6454ce_f66e_11e9_929d_000c29f689c0row16_col1\" class=\"data row16 col1\" >sortslave1</td>\n",
       "                        <td id=\"T_be6454ce_f66e_11e9_929d_000c29f689c0row16_col2\" class=\"data row16 col2\" >up</td>\n",
       "                        <td id=\"T_be6454ce_f66e_11e9_929d_000c29f689c0row16_col3\" class=\"data row16 col3\" >75458</td>\n",
       "                        <td id=\"T_be6454ce_f66e_11e9_929d_000c29f689c0row16_col4\" class=\"data row16 col4\" >1716</td>\n",
       "            </tr>\n",
       "            <tr>\n",
       "                        <th id=\"T_be6454ce_f66e_11e9_929d_000c29f689c0level0_row17\" class=\"row_heading level0 row17\" >18</th>\n",
       "                        <td id=\"T_be6454ce_f66e_11e9_929d_000c29f689c0row17_col0\" class=\"data row17 col0\" >15:58:31</td>\n",
       "                        <td id=\"T_be6454ce_f66e_11e9_929d_000c29f689c0row17_col1\" class=\"data row17 col1\" >sortslave2</td>\n",
       "                        <td id=\"T_be6454ce_f66e_11e9_929d_000c29f689c0row17_col2\" class=\"data row17 col2\" >up</td>\n",
       "                        <td id=\"T_be6454ce_f66e_11e9_929d_000c29f689c0row17_col3\" class=\"data row17 col3\" >75550</td>\n",
       "                        <td id=\"T_be6454ce_f66e_11e9_929d_000c29f689c0row17_col4\" class=\"data row17 col4\" >1717</td>\n",
       "            </tr>\n",
       "            <tr>\n",
       "                        <th id=\"T_be6454ce_f66e_11e9_929d_000c29f689c0level0_row18\" class=\"row_heading level0 row18\" >19</th>\n",
       "                        <td id=\"T_be6454ce_f66e_11e9_929d_000c29f689c0row18_col0\" class=\"data row18 col0\" >15:58:31</td>\n",
       "                        <td id=\"T_be6454ce_f66e_11e9_929d_000c29f689c0row18_col1\" class=\"data row18 col1\" >metrics1</td>\n",
       "                        <td id=\"T_be6454ce_f66e_11e9_929d_000c29f689c0row18_col2\" class=\"data row18 col2\" >up</td>\n",
       "                        <td id=\"T_be6454ce_f66e_11e9_929d_000c29f689c0row18_col3\" class=\"data row18 col3\" >75642</td>\n",
       "                        <td id=\"T_be6454ce_f66e_11e9_929d_000c29f689c0row18_col4\" class=\"data row18 col4\" >1718</td>\n",
       "            </tr>\n",
       "            <tr>\n",
       "                        <th id=\"T_be6454ce_f66e_11e9_929d_000c29f689c0level0_row19\" class=\"row_heading level0 row19\" >20</th>\n",
       "                        <td id=\"T_be6454ce_f66e_11e9_929d_000c29f689c0row19_col0\" class=\"data row19 col0\" >15:58:31</td>\n",
       "                        <td id=\"T_be6454ce_f66e_11e9_929d_000c29f689c0row19_col1\" class=\"data row19 col1\" >iexfeed1</td>\n",
       "                        <td id=\"T_be6454ce_f66e_11e9_929d_000c29f689c0row19_col2\" class=\"data row19 col2\" >up</td>\n",
       "                        <td id=\"T_be6454ce_f66e_11e9_929d_000c29f689c0row19_col3\" class=\"data row19 col3\" >75734</td>\n",
       "                        <td id=\"T_be6454ce_f66e_11e9_929d_000c29f689c0row19_col4\" class=\"data row19 col4\" >1719</td>\n",
       "            </tr>\n",
       "    </tbody></table>"
      ],
      "text/plain": [
       "<pandas.io.formats.style.Styler at 0x7f831160b0b8>"
      ]
     },
     "execution_count": 12,
     "metadata": {},
     "output_type": "execute_result"
    }
   ],
   "source": [
    "# set colour on down processes to red and up processes to green\n",
    "def colour_down_red(col):\n",
    "    color = 'red' if 'down' in col else 'green'\n",
    "    return 'color: %s' % color\n",
    "df.style.applymap(colour_down_red, subset=['STATUS'])"
   ]
  },
  {
   "cell_type": "markdown",
   "metadata": {},
   "source": [
    "### Count of tables in Tickerplant \n",
    "\n",
    "Table to show the count in each table found in the Tickerplant \n",
    "* The counts in each of these tables should be 0, as the Tickerplant should not be storing any data.\n",
    "* If the counts in any of these tables is not 0, this could indicate a slow subscriber. ???"
   ]
  },
  {
   "cell_type": "code",
   "execution_count": 13,
   "metadata": {},
   "outputs": [
    {
     "data": {
      "text/html": [
       "<div>\n",
       "<style scoped>\n",
       "    .dataframe tbody tr th:only-of-type {\n",
       "        vertical-align: middle;\n",
       "    }\n",
       "\n",
       "    .dataframe tbody tr th {\n",
       "        vertical-align: top;\n",
       "    }\n",
       "\n",
       "    .dataframe thead th {\n",
       "        text-align: right;\n",
       "    }\n",
       "</style>\n",
       "<table border=\"1\" class=\"dataframe\">\n",
       "  <thead>\n",
       "    <tr style=\"text-align: right;\">\n",
       "      <th></th>\n",
       "      <th>logmsg</th>\n",
       "      <th>quote</th>\n",
       "      <th>quote_iex</th>\n",
       "      <th>trade</th>\n",
       "      <th>trade_iex</th>\n",
       "    </tr>\n",
       "  </thead>\n",
       "  <tbody>\n",
       "    <tr>\n",
       "      <td>0</td>\n",
       "      <td>0</td>\n",
       "      <td>0</td>\n",
       "      <td>0</td>\n",
       "      <td>0</td>\n",
       "      <td>0</td>\n",
       "    </tr>\n",
       "  </tbody>\n",
       "</table>\n",
       "</div>"
      ],
      "text/plain": [
       "   logmsg  quote  quote_iex  trade  trade_iex\n",
       "0       0      0          0      0          0"
      ]
     },
     "execution_count": 13,
     "metadata": {},
     "output_type": "execute_result"
    }
   ],
   "source": [
    "#table to show tables in TP and the counts of each of them\n",
    "##counts should all be zero\n",
    "with qcon(host, port=find_portno('tickerplant1'), username=un, password=pswd,timeout=3.0) as q:\n",
    "    tablecounts = q(\"enlist tables[]!count each value each tables[]\", pandas=True)\n",
    "tablecounts"
   ]
  },
  {
   "cell_type": "markdown",
   "metadata": {},
   "source": [
    "### Tickerplant Log file size increasing\n",
    "\n",
    "Checks if log messages in the log file of the tickerplant is increasing.\n",
    "   * If log messages are increasing, the tickerplant is receiving data.\n",
    "   * If log messages are not increasing, the tickerplant may not be recieving data. \n"
   ]
  },
  {
   "cell_type": "code",
   "execution_count": 14,
   "metadata": {},
   "outputs": [
    {
     "name": "stdout",
     "output_type": "stream",
     "text": [
      "Log file sizes are increasing:  True\n"
     ]
    }
   ],
   "source": [
    "#log files are increasing over time\n",
    "with qcon(host, port=find_portno('tickerplant1'), username=un, password=pswd,timeout=3.0) as q:\n",
    "    log1=(q(\"hcount .u.L\"))\n",
    "    time.sleep(2)\n",
    "    log2=(q(\"hcount .u.L\"))\n",
    "print (\"Log file sizes are increasing: \", log1<log2)"
   ]
  },
  {
   "cell_type": "markdown",
   "metadata": {},
   "source": [
    "### Process handles connected to Tickerplant\n",
    "\n",
    "Table to show the handles of processes connected to the tickerplant and if there are any slow subscribers.\n",
    "  *  A process may be a slow subscriber if there is a number value in the output queue."
   ]
  },
  {
   "cell_type": "code",
   "execution_count": 15,
   "metadata": {},
   "outputs": [
    {
     "data": {
      "text/html": [
       "<div>\n",
       "<style scoped>\n",
       "    .dataframe tbody tr th:only-of-type {\n",
       "        vertical-align: middle;\n",
       "    }\n",
       "\n",
       "    .dataframe tbody tr th {\n",
       "        vertical-align: top;\n",
       "    }\n",
       "\n",
       "    .dataframe thead th {\n",
       "        text-align: right;\n",
       "    }\n",
       "</style>\n",
       "<table border=\"1\" class=\"dataframe\">\n",
       "  <thead>\n",
       "    <tr style=\"text-align: right;\">\n",
       "      <th></th>\n",
       "      <th>output queue</th>\n",
       "      <th>processes</th>\n",
       "    </tr>\n",
       "    <tr>\n",
       "      <th>handles</th>\n",
       "      <th></th>\n",
       "      <th></th>\n",
       "    </tr>\n",
       "  </thead>\n",
       "  <tbody>\n",
       "    <tr>\n",
       "      <td>6</td>\n",
       "      <td>NaN</td>\n",
       "      <td>rdb</td>\n",
       "    </tr>\n",
       "    <tr>\n",
       "      <td>7</td>\n",
       "      <td>NaN</td>\n",
       "      <td>wdb</td>\n",
       "    </tr>\n",
       "    <tr>\n",
       "      <td>8</td>\n",
       "      <td>NaN</td>\n",
       "      <td>feed</td>\n",
       "    </tr>\n",
       "    <tr>\n",
       "      <td>9</td>\n",
       "      <td>NaN</td>\n",
       "      <td>chainedtp</td>\n",
       "    </tr>\n",
       "    <tr>\n",
       "      <td>10</td>\n",
       "      <td>NaN</td>\n",
       "      <td>metrics</td>\n",
       "    </tr>\n",
       "    <tr>\n",
       "      <td>11</td>\n",
       "      <td>NaN</td>\n",
       "      <td>iexfeed</td>\n",
       "    </tr>\n",
       "    <tr>\n",
       "      <td>12</td>\n",
       "      <td>NaN</td>\n",
       "      <td>admin</td>\n",
       "    </tr>\n",
       "  </tbody>\n",
       "</table>\n",
       "</div>"
      ],
      "text/plain": [
       "         output queue  processes\n",
       "handles                         \n",
       "6                 NaN        rdb\n",
       "7                 NaN        wdb\n",
       "8                 NaN       feed\n",
       "9                 NaN  chainedtp\n",
       "10                NaN    metrics\n",
       "11                NaN    iexfeed\n",
       "12                NaN      admin"
      ]
     },
     "execution_count": 15,
     "metadata": {},
     "output_type": "execute_result"
    }
   ],
   "source": [
    "# shows IPC handles with number of bytes waiting in their output queues and what processes are connected\n",
    "##shows any slow subscribers \n",
    "with qcon(host, port=find_portno('tickerplant1'), username=un, password=pswd,timeout=3.0) as q:\n",
    "    zW=q(\".z.W[]\", pandas=True)\n",
    "    hprocesses=q(\"asc select w,u from .clients.clients\", pandas=True)\n",
    "    byte_decode(hprocesses, ['u'])\n",
    "# assign columns with new names\n",
    "keys=pd.DataFrame(zW.keys, columns=['handles'])\n",
    "values=pd.DataFrame(zW.values, columns=['output queue'])\n",
    "hprocesses=hprocesses.rename(columns={'u':'processes'})\n",
    "# apply new names\n",
    "zW2=keys.join(values)\n",
    "# join zW2 and hprocesses\n",
    "zW2=zW2.join(hprocesses.processes)\n",
    "zW2.set_index('handles', inplace=True)\n",
    "zW2"
   ]
  },
  {
   "cell_type": "markdown",
   "metadata": {},
   "source": [
    "## RDB code"
   ]
  },
  {
   "cell_type": "code",
   "execution_count": 18,
   "metadata": {},
   "outputs": [],
   "source": [
    "with qcon(host, port=find_portno('rdb1'), username=un, password=pswd,timeout=3.0) as q:\n",
    "    \n",
    "    #Check tables in rdb are same as tables in tickerplant \n",
    "    tables = q('all 1_tables[] in ((exec w from .servers.SERVERS where proctype=`tickerplant)0)(\"tables[]\")')\n",
    "    #Check count of tables in rdb - data is being sent from the tickerplant \n",
    "    tptordb = q('enlist tables[]!count each value each tables[]', pandas=True)\n",
    "    #Check rdb can be queried\n",
    "    rdbtquery = q('-5#select from trade', pandas=True)\n",
    "    #dbqquery = q('-5#select from quote', pandas=True)\n",
    "    byte_decode(rdbtquery,['sym'])\n",
    "\n",
    "    #Check that only data from today is present in the rdb tables\n",
    "    onedatet = q('select Currentdate:all .z.d=distinct (`date$time) from trade', pandas=True)\n",
    "    #ondedateq = q('select Currentdate:all .z.d=distinct (`date$time) from quote', pandas=True)"
   ]
  },
  {
   "cell_type": "markdown",
   "metadata": {},
   "source": [
    "### RDB tables\n",
    "\n",
    "Checks if the tables in the rdb are the same as the tables in the Tickerplant."
   ]
  },
  {
   "cell_type": "code",
   "execution_count": 19,
   "metadata": {},
   "outputs": [
    {
     "name": "stdout",
     "output_type": "stream",
     "text": [
      "RDB tables are same as Tickerplant tables :  True\n"
     ]
    }
   ],
   "source": [
    "print (\"RDB tables are same as Tickerplant tables : \", tables)"
   ]
  },
  {
   "cell_type": "markdown",
   "metadata": {},
   "source": [
    "### RDB table counts\n",
    "Checks counts of tables in the RDB\n",
    "* A count of zero, indicates no data has been sent from the Tickerplant to the RDB"
   ]
  },
  {
   "cell_type": "markdown",
   "metadata": {},
   "source": [
    "### RDB table counts\n",
    "\n",
    "Checks to see if data is being sent from the Tickerplant to the RDB\n",
    "* Counts for heartbeat and logmsg should be 0\n",
    "* If counts for the other tables is 0, the RDB has been sent no data for today"
   ]
  },
  {
   "cell_type": "code",
   "execution_count": 20,
   "metadata": {},
   "outputs": [
    {
     "data": {
      "text/html": [
       "<div>\n",
       "<style scoped>\n",
       "    .dataframe tbody tr th:only-of-type {\n",
       "        vertical-align: middle;\n",
       "    }\n",
       "\n",
       "    .dataframe tbody tr th {\n",
       "        vertical-align: top;\n",
       "    }\n",
       "\n",
       "    .dataframe thead th {\n",
       "        text-align: right;\n",
       "    }\n",
       "</style>\n",
       "<table border=\"1\" class=\"dataframe\">\n",
       "  <thead>\n",
       "    <tr style=\"text-align: right;\">\n",
       "      <th></th>\n",
       "      <th></th>\n",
       "      <th></th>\n",
       "      <th></th>\n",
       "      <th></th>\n",
       "      <th></th>\n",
       "    </tr>\n",
       "    <tr>\n",
       "      <th>heartbeat</th>\n",
       "      <th>logmsg</th>\n",
       "      <th>quote</th>\n",
       "      <th>quote_iex</th>\n",
       "      <th>trade</th>\n",
       "      <th>trade_iex</th>\n",
       "    </tr>\n",
       "  </thead>\n",
       "  <tbody>\n",
       "    <tr>\n",
       "      <td>0</td>\n",
       "      <td>0</td>\n",
       "      <td>578075</td>\n",
       "      <td>0</td>\n",
       "      <td>120881</td>\n",
       "      <td>0</td>\n",
       "    </tr>\n",
       "  </tbody>\n",
       "</table>\n",
       "</div>"
      ],
      "text/plain": [
       "Empty DataFrame\n",
       "Columns: []\n",
       "Index: [(0, 0, 578075, 0, 120881, 0)]"
      ]
     },
     "execution_count": 20,
     "metadata": {},
     "output_type": "execute_result"
    }
   ],
   "source": [
    "tptordb.set_index(tptordb.columns.tolist())"
   ]
  },
  {
   "cell_type": "markdown",
   "metadata": {},
   "source": [
    "### RDB Query\n",
    "Checks to see if tables in the RDB can be queried \n",
    "* First table = trade table\n",
    "* (Second table = quote table)"
   ]
  },
  {
   "cell_type": "code",
   "execution_count": 21,
   "metadata": {},
   "outputs": [
    {
     "data": {
      "text/html": [
       "<div>\n",
       "<style scoped>\n",
       "    .dataframe tbody tr th:only-of-type {\n",
       "        vertical-align: middle;\n",
       "    }\n",
       "\n",
       "    .dataframe tbody tr th {\n",
       "        vertical-align: top;\n",
       "    }\n",
       "\n",
       "    .dataframe thead th {\n",
       "        text-align: right;\n",
       "    }\n",
       "</style>\n",
       "<table border=\"1\" class=\"dataframe\">\n",
       "  <thead>\n",
       "    <tr style=\"text-align: right;\">\n",
       "      <th></th>\n",
       "      <th>time</th>\n",
       "      <th>sym</th>\n",
       "      <th>price</th>\n",
       "      <th>size</th>\n",
       "      <th>stop</th>\n",
       "      <th>cond</th>\n",
       "      <th>ex</th>\n",
       "    </tr>\n",
       "  </thead>\n",
       "  <tbody>\n",
       "    <tr>\n",
       "      <td>0</td>\n",
       "      <td>2019-10-24 14:59:34.178525</td>\n",
       "      <td>GOOG</td>\n",
       "      <td>72.23</td>\n",
       "      <td>70</td>\n",
       "      <td>False</td>\n",
       "      <td>G</td>\n",
       "      <td>N</td>\n",
       "    </tr>\n",
       "    <tr>\n",
       "      <td>1</td>\n",
       "      <td>2019-10-24 14:59:34.178525</td>\n",
       "      <td>HPQ</td>\n",
       "      <td>36.90</td>\n",
       "      <td>10</td>\n",
       "      <td>False</td>\n",
       "      <td></td>\n",
       "      <td>O</td>\n",
       "    </tr>\n",
       "    <tr>\n",
       "      <td>2</td>\n",
       "      <td>2019-10-24 14:59:34.178525</td>\n",
       "      <td>MSFT</td>\n",
       "      <td>28.64</td>\n",
       "      <td>10</td>\n",
       "      <td>False</td>\n",
       "      <td>Z</td>\n",
       "      <td>N</td>\n",
       "    </tr>\n",
       "    <tr>\n",
       "      <td>3</td>\n",
       "      <td>2019-10-24 14:59:34.178525</td>\n",
       "      <td>INTC</td>\n",
       "      <td>50.11</td>\n",
       "      <td>40</td>\n",
       "      <td>True</td>\n",
       "      <td>8</td>\n",
       "      <td>N</td>\n",
       "    </tr>\n",
       "    <tr>\n",
       "      <td>4</td>\n",
       "      <td>2019-10-24 14:59:34.178525</td>\n",
       "      <td>GOOG</td>\n",
       "      <td>72.26</td>\n",
       "      <td>0</td>\n",
       "      <td>False</td>\n",
       "      <td>K</td>\n",
       "      <td>N</td>\n",
       "    </tr>\n",
       "  </tbody>\n",
       "</table>\n",
       "</div>"
      ],
      "text/plain": [
       "                        time   sym  price  size   stop cond ex\n",
       "0 2019-10-24 14:59:34.178525  GOOG  72.23    70  False    G  N\n",
       "1 2019-10-24 14:59:34.178525   HPQ  36.90    10  False       O\n",
       "2 2019-10-24 14:59:34.178525  MSFT  28.64    10  False    Z  N\n",
       "3 2019-10-24 14:59:34.178525  INTC  50.11    40   True    8  N\n",
       "4 2019-10-24 14:59:34.178525  GOOG  72.26     0  False    K  N"
      ]
     },
     "execution_count": 21,
     "metadata": {},
     "output_type": "execute_result"
    }
   ],
   "source": [
    "rdbtquery"
   ]
  },
  {
   "cell_type": "markdown",
   "metadata": {},
   "source": [
    "### RDB Date Checks\n",
    "Check to see if date in RDB tables is the current date"
   ]
  },
  {
   "cell_type": "code",
   "execution_count": null,
   "metadata": {},
   "outputs": [],
   "source": [
    "def color_true(val):\n",
    "    color  ='pink' if val==False else 'green'\n",
    "    return 'background-color: %s' %color\n",
    "onedatet.style.applymap(color_true)"
   ]
  },
  {
   "cell_type": "markdown",
   "metadata": {},
   "source": [
    "### HDB Code"
   ]
  },
  {
   "cell_type": "code",
   "execution_count": 22,
   "metadata": {},
   "outputs": [],
   "source": [
    "with qcon(host, port=find_portno('hdb1'), username=un, password=pswd,timeout=3.0) as q:\n",
    "    \n",
    "    #Check hdb table counts excl. eod_summary and eod_summary_iex\n",
    "    hdbtablecount=q('enlist tables[]!count each value each tables[]',pandas=True)\n",
    "\n",
    "    \n",
    "    lastdayquery=q('5#select from trade where date=.z.d-1', pandas=True)\n",
    "    byte_decode(lastdayquery,['sym'])\n",
    "    "
   ]
  },
  {
   "cell_type": "markdown",
   "metadata": {},
   "source": [
    "### HDB Query\n",
    "HDB Table counts "
   ]
  },
  {
   "cell_type": "code",
   "execution_count": 23,
   "metadata": {},
   "outputs": [
    {
     "data": {
      "text/html": [
       "<div>\n",
       "<style scoped>\n",
       "    .dataframe tbody tr th:only-of-type {\n",
       "        vertical-align: middle;\n",
       "    }\n",
       "\n",
       "    .dataframe tbody tr th {\n",
       "        vertical-align: top;\n",
       "    }\n",
       "\n",
       "    .dataframe thead th {\n",
       "        text-align: right;\n",
       "    }\n",
       "</style>\n",
       "<table border=\"1\" class=\"dataframe\">\n",
       "  <thead>\n",
       "    <tr style=\"text-align: right;\">\n",
       "      <th></th>\n",
       "      <th></th>\n",
       "      <th></th>\n",
       "      <th></th>\n",
       "      <th></th>\n",
       "      <th></th>\n",
       "    </tr>\n",
       "    <tr>\n",
       "      <th>heartbeat</th>\n",
       "      <th>logmsg</th>\n",
       "      <th>quote</th>\n",
       "      <th>quote_iex</th>\n",
       "      <th>trade</th>\n",
       "      <th>trade_iex</th>\n",
       "    </tr>\n",
       "  </thead>\n",
       "  <tbody>\n",
       "    <tr>\n",
       "      <td>0</td>\n",
       "      <td>0</td>\n",
       "      <td>7066477</td>\n",
       "      <td>0</td>\n",
       "      <td>1604460</td>\n",
       "      <td>0</td>\n",
       "    </tr>\n",
       "  </tbody>\n",
       "</table>\n",
       "</div>"
      ],
      "text/plain": [
       "Empty DataFrame\n",
       "Columns: []\n",
       "Index: [(0, 0, 7066477, 0, 1604460, 0)]"
      ]
     },
     "execution_count": 23,
     "metadata": {},
     "output_type": "execute_result"
    }
   ],
   "source": [
    "hdbtablecount.set_index(hdbtablecount.columns.tolist())"
   ]
  },
  {
   "cell_type": "markdown",
   "metadata": {},
   "source": [
    "### HDB Query\n",
    "Check to see if HDB tables can be queried"
   ]
  },
  {
   "cell_type": "code",
   "execution_count": 24,
   "metadata": {},
   "outputs": [
    {
     "data": {
      "text/html": [
       "<div>\n",
       "<style scoped>\n",
       "    .dataframe tbody tr th:only-of-type {\n",
       "        vertical-align: middle;\n",
       "    }\n",
       "\n",
       "    .dataframe tbody tr th {\n",
       "        vertical-align: top;\n",
       "    }\n",
       "\n",
       "    .dataframe thead th {\n",
       "        text-align: right;\n",
       "    }\n",
       "</style>\n",
       "<table border=\"1\" class=\"dataframe\">\n",
       "  <thead>\n",
       "    <tr style=\"text-align: right;\">\n",
       "      <th></th>\n",
       "      <th>date</th>\n",
       "      <th>time</th>\n",
       "      <th>sym</th>\n",
       "      <th>price</th>\n",
       "      <th>size</th>\n",
       "      <th>stop</th>\n",
       "      <th>cond</th>\n",
       "      <th>ex</th>\n",
       "    </tr>\n",
       "  </thead>\n",
       "  <tbody>\n",
       "    <tr>\n",
       "      <td>0</td>\n",
       "      <td>2019-10-23</td>\n",
       "      <td>2019-10-23 14:36:57.564500</td>\n",
       "      <td>MSFT</td>\n",
       "      <td>31.36</td>\n",
       "      <td>69</td>\n",
       "      <td>False</td>\n",
       "      <td>Z</td>\n",
       "      <td>N</td>\n",
       "    </tr>\n",
       "    <tr>\n",
       "      <td>1</td>\n",
       "      <td>2019-10-23</td>\n",
       "      <td>2019-10-23 14:36:57.564500</td>\n",
       "      <td>MSFT</td>\n",
       "      <td>31.36</td>\n",
       "      <td>45</td>\n",
       "      <td>False</td>\n",
       "      <td>E</td>\n",
       "      <td>N</td>\n",
       "    </tr>\n",
       "    <tr>\n",
       "      <td>2</td>\n",
       "      <td>2019-10-23</td>\n",
       "      <td>2019-10-23 14:36:58.968195</td>\n",
       "      <td>MSFT</td>\n",
       "      <td>31.28</td>\n",
       "      <td>26</td>\n",
       "      <td>False</td>\n",
       "      <td>W</td>\n",
       "      <td>N</td>\n",
       "    </tr>\n",
       "    <tr>\n",
       "      <td>3</td>\n",
       "      <td>2019-10-23</td>\n",
       "      <td>2019-10-23 14:37:00.364220</td>\n",
       "      <td>MSFT</td>\n",
       "      <td>31.38</td>\n",
       "      <td>49</td>\n",
       "      <td>False</td>\n",
       "      <td>9</td>\n",
       "      <td>N</td>\n",
       "    </tr>\n",
       "    <tr>\n",
       "      <td>4</td>\n",
       "      <td>2019-10-23</td>\n",
       "      <td>2019-10-23 14:37:00.765186</td>\n",
       "      <td>MSFT</td>\n",
       "      <td>31.37</td>\n",
       "      <td>20</td>\n",
       "      <td>False</td>\n",
       "      <td>Z</td>\n",
       "      <td>N</td>\n",
       "    </tr>\n",
       "  </tbody>\n",
       "</table>\n",
       "</div>"
      ],
      "text/plain": [
       "        date                       time   sym  price  size   stop cond ex\n",
       "0 2019-10-23 2019-10-23 14:36:57.564500  MSFT  31.36    69  False    Z  N\n",
       "1 2019-10-23 2019-10-23 14:36:57.564500  MSFT  31.36    45  False    E  N\n",
       "2 2019-10-23 2019-10-23 14:36:58.968195  MSFT  31.28    26  False    W  N\n",
       "3 2019-10-23 2019-10-23 14:37:00.364220  MSFT  31.38    49  False    9  N\n",
       "4 2019-10-23 2019-10-23 14:37:00.765186  MSFT  31.37    20  False    Z  N"
      ]
     },
     "execution_count": 24,
     "metadata": {},
     "output_type": "execute_result"
    }
   ],
   "source": [
    "lastdayquery"
   ]
  },
  {
   "cell_type": "code",
   "execution_count": null,
   "metadata": {},
   "outputs": [],
   "source": []
  }
 ],
 "metadata": {
  "kernelspec": {
   "display_name": "Python 3",
   "language": "python",
   "name": "python3"
  },
  "language_info": {
   "codemirror_mode": {
    "name": "ipython",
    "version": 3
   },
   "file_extension": ".py",
   "mimetype": "text/x-python",
   "name": "python",
   "nbconvert_exporter": "python",
   "pygments_lexer": "ipython3",
   "version": "3.6.8"
  }
 },
 "nbformat": 4,
 "nbformat_minor": 2
}
