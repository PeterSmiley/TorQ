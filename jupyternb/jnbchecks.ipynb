{
 "cells": [
  {
   "cell_type": "markdown",
   "metadata": {},
   "source": [
    "<span style=\"font-family:Arial; font-size:3.5em;\">Process Checks</span>\n",
    "- - - -"
   ]
  },
  {
   "cell_type": "code",
   "execution_count": 160,
   "metadata": {},
   "outputs": [
    {
     "data": {
      "text/html": [
       "<script>\n",
       "code_show=true; \n",
       "function code_toggle() {\n",
       " if (code_show){\n",
       " $('div.input').hide();\n",
       " } else {\n",
       " $('div.input').show();\n",
       " }\n",
       " code_show = !code_show\n",
       "} \n",
       "$( document ).ready(code_toggle);\n",
       "</script>\n",
       "The raw code for this IPython notebook is by default hidden for easier reading.\n",
       "To toggle on/off the raw code, click <a href=\"javascript:code_toggle()\">here</a>."
      ],
      "text/plain": [
       "<IPython.core.display.HTML object>"
      ]
     },
     "execution_count": 160,
     "metadata": {},
     "output_type": "execute_result"
    }
   ],
   "source": [
    "from IPython.display import HTML\n",
    "HTML('''<script>\n",
    "code_show=true; \n",
    "function code_toggle() {\n",
    " if (code_show){\n",
    " $('div.input').hide();\n",
    " } else {\n",
    " $('div.input').show();\n",
    " }\n",
    " code_show = !code_show\n",
    "} \n",
    "$( document ).ready(code_toggle);\n",
    "</script>\n",
    "The raw code for this IPython notebook is by default hidden for easier reading.\n",
    "To toggle on/off the raw code, click <a href=\"javascript:code_toggle()\">here</a>.''')"
   ]
  },
  {
   "cell_type": "markdown",
   "metadata": {},
   "source": [
    "## Tickerplant Results"
   ]
  },
  {
   "cell_type": "code",
   "execution_count": 161,
   "metadata": {},
   "outputs": [
    {
     "name": "stdout",
     "output_type": "stream",
     "text": [
      "Credentials required are host, username, password\n",
      "\t host:localhost username: admin password: admin.\n",
      "Processed 2 lines.\n"
     ]
    }
   ],
   "source": [
    "#importing required modules\n",
    "from qpython.qconnection import QConnection as qcon\n",
    "from qpython.qcollection import QDictionary as qdict\n",
    "from contextlib import redirect_stdout as rd_so\n",
    "from datetime import datetime\n",
    "import calendar\n",
    "import time\n",
    "import psutil\n",
    "import numpy as np\n",
    "import pandas as pd\n",
    "import matplotlib.pyplot as plt\n",
    "%matplotlib inline\n",
    "\n",
    "#set qcon variables\n",
    "import csv\n",
    "with open('credentials.csv') as csv_file:\n",
    "    csv_reader = csv.reader(csv_file, delimiter=',')\n",
    "    line_count = 0\n",
    "    for row in csv_reader:\n",
    "        if line_count == 0:\n",
    "            print(f'Credentials required are {\", \".join(row)}')\n",
    "            line_count += 1\n",
    "        else:\n",
    "            host=row[0]\n",
    "            un=row[1]\n",
    "            pswd=row[2]\n",
    "            print(f'\\t host:{row[0]} username: {row[1]} password: {row[2]}.')\n",
    "            line_count += 1\n",
    "    print(f'Processed {line_count} lines.')         "
   ]
  },
  {
   "cell_type": "markdown",
   "metadata": {},
   "source": [
    "### Process Summary\n",
    "\n",
    "Table showing process name, status, PID, Port numbers, CPU and Memory usage.\n",
    "* Process status indicated by colours green (up) and red (down).\n",
    "* Killtick, tpreplay1 and compression1 should usually have a down status indicated."
   ]
  },
  {
   "cell_type": "code",
   "execution_count": 162,
   "metadata": {
    "scrolled": false
   },
   "outputs": [
    {
     "name": "stdout",
     "output_type": "stream",
     "text": [
      "Please check if the following processes are all up: Tickerplant1, rdb1, hdb1\n"
     ]
    },
    {
     "data": {
      "text/html": [
       "<style  type=\"text/css\" >\n",
       "    #T_1a9ff94a_1849_11ea_98cb_000c29f689c0row0_col2 {\n",
       "            color:  red;\n",
       "        }    #T_1a9ff94a_1849_11ea_98cb_000c29f689c0row1_col2 {\n",
       "            color:  red;\n",
       "        }    #T_1a9ff94a_1849_11ea_98cb_000c29f689c0row2_col2 {\n",
       "            color:  red;\n",
       "        }    #T_1a9ff94a_1849_11ea_98cb_000c29f689c0row3_col2 {\n",
       "            color:  red;\n",
       "        }    #T_1a9ff94a_1849_11ea_98cb_000c29f689c0row4_col2 {\n",
       "            color:  red;\n",
       "        }    #T_1a9ff94a_1849_11ea_98cb_000c29f689c0row5_col2 {\n",
       "            color:  red;\n",
       "        }    #T_1a9ff94a_1849_11ea_98cb_000c29f689c0row6_col2 {\n",
       "            color:  red;\n",
       "        }    #T_1a9ff94a_1849_11ea_98cb_000c29f689c0row7_col2 {\n",
       "            color:  red;\n",
       "        }    #T_1a9ff94a_1849_11ea_98cb_000c29f689c0row8_col2 {\n",
       "            color:  red;\n",
       "        }    #T_1a9ff94a_1849_11ea_98cb_000c29f689c0row9_col2 {\n",
       "            color:  red;\n",
       "        }    #T_1a9ff94a_1849_11ea_98cb_000c29f689c0row10_col2 {\n",
       "            color:  red;\n",
       "        }    #T_1a9ff94a_1849_11ea_98cb_000c29f689c0row11_col2 {\n",
       "            color:  red;\n",
       "        }    #T_1a9ff94a_1849_11ea_98cb_000c29f689c0row12_col2 {\n",
       "            color:  red;\n",
       "        }    #T_1a9ff94a_1849_11ea_98cb_000c29f689c0row13_col2 {\n",
       "            color:  red;\n",
       "        }    #T_1a9ff94a_1849_11ea_98cb_000c29f689c0row14_col2 {\n",
       "            color:  red;\n",
       "        }    #T_1a9ff94a_1849_11ea_98cb_000c29f689c0row15_col2 {\n",
       "            color:  red;\n",
       "        }    #T_1a9ff94a_1849_11ea_98cb_000c29f689c0row16_col2 {\n",
       "            color:  red;\n",
       "        }    #T_1a9ff94a_1849_11ea_98cb_000c29f689c0row17_col2 {\n",
       "            color:  red;\n",
       "        }    #T_1a9ff94a_1849_11ea_98cb_000c29f689c0row18_col2 {\n",
       "            color:  red;\n",
       "        }    #T_1a9ff94a_1849_11ea_98cb_000c29f689c0row19_col2 {\n",
       "            color:  red;\n",
       "        }</style><table id=\"T_1a9ff94a_1849_11ea_98cb_000c29f689c0\" ><thead>    <tr>        <th class=\"blank level0\" ></th>        <th class=\"col_heading level0 col0\" >TIME</th>        <th class=\"col_heading level0 col1\" >PROCESS</th>        <th class=\"col_heading level0 col2\" >STATUS</th>        <th class=\"col_heading level0 col3\" >PID</th>        <th class=\"col_heading level0 col4\" >PORT</th>    </tr></thead><tbody>\n",
       "                <tr>\n",
       "                        <th id=\"T_1a9ff94a_1849_11ea_98cb_000c29f689c0level0_row0\" class=\"row_heading level0 row0\" >1</th>\n",
       "                        <td id=\"T_1a9ff94a_1849_11ea_98cb_000c29f689c0row0_col0\" class=\"data row0 col0\" >16:54:43</td>\n",
       "                        <td id=\"T_1a9ff94a_1849_11ea_98cb_000c29f689c0row0_col1\" class=\"data row0 col1\" >discovery1</td>\n",
       "                        <td id=\"T_1a9ff94a_1849_11ea_98cb_000c29f689c0row0_col2\" class=\"data row0 col2\" >down</td>\n",
       "                        <td id=\"T_1a9ff94a_1849_11ea_98cb_000c29f689c0row0_col3\" class=\"data row0 col3\" ></td>\n",
       "                        <td id=\"T_1a9ff94a_1849_11ea_98cb_000c29f689c0row0_col4\" class=\"data row0 col4\" >None</td>\n",
       "            </tr>\n",
       "            <tr>\n",
       "                        <th id=\"T_1a9ff94a_1849_11ea_98cb_000c29f689c0level0_row1\" class=\"row_heading level0 row1\" >2</th>\n",
       "                        <td id=\"T_1a9ff94a_1849_11ea_98cb_000c29f689c0row1_col0\" class=\"data row1 col0\" >16:54:43</td>\n",
       "                        <td id=\"T_1a9ff94a_1849_11ea_98cb_000c29f689c0row1_col1\" class=\"data row1 col1\" >tickerplant1</td>\n",
       "                        <td id=\"T_1a9ff94a_1849_11ea_98cb_000c29f689c0row1_col2\" class=\"data row1 col2\" >down</td>\n",
       "                        <td id=\"T_1a9ff94a_1849_11ea_98cb_000c29f689c0row1_col3\" class=\"data row1 col3\" ></td>\n",
       "                        <td id=\"T_1a9ff94a_1849_11ea_98cb_000c29f689c0row1_col4\" class=\"data row1 col4\" >None</td>\n",
       "            </tr>\n",
       "            <tr>\n",
       "                        <th id=\"T_1a9ff94a_1849_11ea_98cb_000c29f689c0level0_row2\" class=\"row_heading level0 row2\" >3</th>\n",
       "                        <td id=\"T_1a9ff94a_1849_11ea_98cb_000c29f689c0row2_col0\" class=\"data row2 col0\" >16:54:43</td>\n",
       "                        <td id=\"T_1a9ff94a_1849_11ea_98cb_000c29f689c0row2_col1\" class=\"data row2 col1\" >rdb1</td>\n",
       "                        <td id=\"T_1a9ff94a_1849_11ea_98cb_000c29f689c0row2_col2\" class=\"data row2 col2\" >down</td>\n",
       "                        <td id=\"T_1a9ff94a_1849_11ea_98cb_000c29f689c0row2_col3\" class=\"data row2 col3\" ></td>\n",
       "                        <td id=\"T_1a9ff94a_1849_11ea_98cb_000c29f689c0row2_col4\" class=\"data row2 col4\" >None</td>\n",
       "            </tr>\n",
       "            <tr>\n",
       "                        <th id=\"T_1a9ff94a_1849_11ea_98cb_000c29f689c0level0_row3\" class=\"row_heading level0 row3\" >4</th>\n",
       "                        <td id=\"T_1a9ff94a_1849_11ea_98cb_000c29f689c0row3_col0\" class=\"data row3 col0\" >16:54:44</td>\n",
       "                        <td id=\"T_1a9ff94a_1849_11ea_98cb_000c29f689c0row3_col1\" class=\"data row3 col1\" >hdb1</td>\n",
       "                        <td id=\"T_1a9ff94a_1849_11ea_98cb_000c29f689c0row3_col2\" class=\"data row3 col2\" >down</td>\n",
       "                        <td id=\"T_1a9ff94a_1849_11ea_98cb_000c29f689c0row3_col3\" class=\"data row3 col3\" ></td>\n",
       "                        <td id=\"T_1a9ff94a_1849_11ea_98cb_000c29f689c0row3_col4\" class=\"data row3 col4\" >None</td>\n",
       "            </tr>\n",
       "            <tr>\n",
       "                        <th id=\"T_1a9ff94a_1849_11ea_98cb_000c29f689c0level0_row4\" class=\"row_heading level0 row4\" >5</th>\n",
       "                        <td id=\"T_1a9ff94a_1849_11ea_98cb_000c29f689c0row4_col0\" class=\"data row4 col0\" >16:54:44</td>\n",
       "                        <td id=\"T_1a9ff94a_1849_11ea_98cb_000c29f689c0row4_col1\" class=\"data row4 col1\" >hdb2</td>\n",
       "                        <td id=\"T_1a9ff94a_1849_11ea_98cb_000c29f689c0row4_col2\" class=\"data row4 col2\" >down</td>\n",
       "                        <td id=\"T_1a9ff94a_1849_11ea_98cb_000c29f689c0row4_col3\" class=\"data row4 col3\" ></td>\n",
       "                        <td id=\"T_1a9ff94a_1849_11ea_98cb_000c29f689c0row4_col4\" class=\"data row4 col4\" >None</td>\n",
       "            </tr>\n",
       "            <tr>\n",
       "                        <th id=\"T_1a9ff94a_1849_11ea_98cb_000c29f689c0level0_row5\" class=\"row_heading level0 row5\" >6</th>\n",
       "                        <td id=\"T_1a9ff94a_1849_11ea_98cb_000c29f689c0row5_col0\" class=\"data row5 col0\" >16:54:44</td>\n",
       "                        <td id=\"T_1a9ff94a_1849_11ea_98cb_000c29f689c0row5_col1\" class=\"data row5 col1\" >wdb1</td>\n",
       "                        <td id=\"T_1a9ff94a_1849_11ea_98cb_000c29f689c0row5_col2\" class=\"data row5 col2\" >down</td>\n",
       "                        <td id=\"T_1a9ff94a_1849_11ea_98cb_000c29f689c0row5_col3\" class=\"data row5 col3\" ></td>\n",
       "                        <td id=\"T_1a9ff94a_1849_11ea_98cb_000c29f689c0row5_col4\" class=\"data row5 col4\" >None</td>\n",
       "            </tr>\n",
       "            <tr>\n",
       "                        <th id=\"T_1a9ff94a_1849_11ea_98cb_000c29f689c0level0_row6\" class=\"row_heading level0 row6\" >7</th>\n",
       "                        <td id=\"T_1a9ff94a_1849_11ea_98cb_000c29f689c0row6_col0\" class=\"data row6 col0\" >16:54:44</td>\n",
       "                        <td id=\"T_1a9ff94a_1849_11ea_98cb_000c29f689c0row6_col1\" class=\"data row6 col1\" >sort1</td>\n",
       "                        <td id=\"T_1a9ff94a_1849_11ea_98cb_000c29f689c0row6_col2\" class=\"data row6 col2\" >down</td>\n",
       "                        <td id=\"T_1a9ff94a_1849_11ea_98cb_000c29f689c0row6_col3\" class=\"data row6 col3\" ></td>\n",
       "                        <td id=\"T_1a9ff94a_1849_11ea_98cb_000c29f689c0row6_col4\" class=\"data row6 col4\" >None</td>\n",
       "            </tr>\n",
       "            <tr>\n",
       "                        <th id=\"T_1a9ff94a_1849_11ea_98cb_000c29f689c0level0_row7\" class=\"row_heading level0 row7\" >8</th>\n",
       "                        <td id=\"T_1a9ff94a_1849_11ea_98cb_000c29f689c0row7_col0\" class=\"data row7 col0\" >16:54:44</td>\n",
       "                        <td id=\"T_1a9ff94a_1849_11ea_98cb_000c29f689c0row7_col1\" class=\"data row7 col1\" >gateway1</td>\n",
       "                        <td id=\"T_1a9ff94a_1849_11ea_98cb_000c29f689c0row7_col2\" class=\"data row7 col2\" >down</td>\n",
       "                        <td id=\"T_1a9ff94a_1849_11ea_98cb_000c29f689c0row7_col3\" class=\"data row7 col3\" ></td>\n",
       "                        <td id=\"T_1a9ff94a_1849_11ea_98cb_000c29f689c0row7_col4\" class=\"data row7 col4\" >None</td>\n",
       "            </tr>\n",
       "            <tr>\n",
       "                        <th id=\"T_1a9ff94a_1849_11ea_98cb_000c29f689c0level0_row8\" class=\"row_heading level0 row8\" >9</th>\n",
       "                        <td id=\"T_1a9ff94a_1849_11ea_98cb_000c29f689c0row8_col0\" class=\"data row8 col0\" >16:54:44</td>\n",
       "                        <td id=\"T_1a9ff94a_1849_11ea_98cb_000c29f689c0row8_col1\" class=\"data row8 col1\" >killtick</td>\n",
       "                        <td id=\"T_1a9ff94a_1849_11ea_98cb_000c29f689c0row8_col2\" class=\"data row8 col2\" >down</td>\n",
       "                        <td id=\"T_1a9ff94a_1849_11ea_98cb_000c29f689c0row8_col3\" class=\"data row8 col3\" ></td>\n",
       "                        <td id=\"T_1a9ff94a_1849_11ea_98cb_000c29f689c0row8_col4\" class=\"data row8 col4\" >None</td>\n",
       "            </tr>\n",
       "            <tr>\n",
       "                        <th id=\"T_1a9ff94a_1849_11ea_98cb_000c29f689c0level0_row9\" class=\"row_heading level0 row9\" >10</th>\n",
       "                        <td id=\"T_1a9ff94a_1849_11ea_98cb_000c29f689c0row9_col0\" class=\"data row9 col0\" >16:54:44</td>\n",
       "                        <td id=\"T_1a9ff94a_1849_11ea_98cb_000c29f689c0row9_col1\" class=\"data row9 col1\" >monitor1</td>\n",
       "                        <td id=\"T_1a9ff94a_1849_11ea_98cb_000c29f689c0row9_col2\" class=\"data row9 col2\" >down</td>\n",
       "                        <td id=\"T_1a9ff94a_1849_11ea_98cb_000c29f689c0row9_col3\" class=\"data row9 col3\" ></td>\n",
       "                        <td id=\"T_1a9ff94a_1849_11ea_98cb_000c29f689c0row9_col4\" class=\"data row9 col4\" >None</td>\n",
       "            </tr>\n",
       "            <tr>\n",
       "                        <th id=\"T_1a9ff94a_1849_11ea_98cb_000c29f689c0level0_row10\" class=\"row_heading level0 row10\" >11</th>\n",
       "                        <td id=\"T_1a9ff94a_1849_11ea_98cb_000c29f689c0row10_col0\" class=\"data row10 col0\" >16:54:44</td>\n",
       "                        <td id=\"T_1a9ff94a_1849_11ea_98cb_000c29f689c0row10_col1\" class=\"data row10 col1\" >tpreplay1</td>\n",
       "                        <td id=\"T_1a9ff94a_1849_11ea_98cb_000c29f689c0row10_col2\" class=\"data row10 col2\" >down</td>\n",
       "                        <td id=\"T_1a9ff94a_1849_11ea_98cb_000c29f689c0row10_col3\" class=\"data row10 col3\" ></td>\n",
       "                        <td id=\"T_1a9ff94a_1849_11ea_98cb_000c29f689c0row10_col4\" class=\"data row10 col4\" >None</td>\n",
       "            </tr>\n",
       "            <tr>\n",
       "                        <th id=\"T_1a9ff94a_1849_11ea_98cb_000c29f689c0level0_row11\" class=\"row_heading level0 row11\" >12</th>\n",
       "                        <td id=\"T_1a9ff94a_1849_11ea_98cb_000c29f689c0row11_col0\" class=\"data row11 col0\" >16:54:44</td>\n",
       "                        <td id=\"T_1a9ff94a_1849_11ea_98cb_000c29f689c0row11_col1\" class=\"data row11 col1\" >housekeeping1</td>\n",
       "                        <td id=\"T_1a9ff94a_1849_11ea_98cb_000c29f689c0row11_col2\" class=\"data row11 col2\" >down</td>\n",
       "                        <td id=\"T_1a9ff94a_1849_11ea_98cb_000c29f689c0row11_col3\" class=\"data row11 col3\" ></td>\n",
       "                        <td id=\"T_1a9ff94a_1849_11ea_98cb_000c29f689c0row11_col4\" class=\"data row11 col4\" >None</td>\n",
       "            </tr>\n",
       "            <tr>\n",
       "                        <th id=\"T_1a9ff94a_1849_11ea_98cb_000c29f689c0level0_row12\" class=\"row_heading level0 row12\" >13</th>\n",
       "                        <td id=\"T_1a9ff94a_1849_11ea_98cb_000c29f689c0row12_col0\" class=\"data row12 col0\" >16:54:44</td>\n",
       "                        <td id=\"T_1a9ff94a_1849_11ea_98cb_000c29f689c0row12_col1\" class=\"data row12 col1\" >reporter1</td>\n",
       "                        <td id=\"T_1a9ff94a_1849_11ea_98cb_000c29f689c0row12_col2\" class=\"data row12 col2\" >down</td>\n",
       "                        <td id=\"T_1a9ff94a_1849_11ea_98cb_000c29f689c0row12_col3\" class=\"data row12 col3\" ></td>\n",
       "                        <td id=\"T_1a9ff94a_1849_11ea_98cb_000c29f689c0row12_col4\" class=\"data row12 col4\" >None</td>\n",
       "            </tr>\n",
       "            <tr>\n",
       "                        <th id=\"T_1a9ff94a_1849_11ea_98cb_000c29f689c0level0_row13\" class=\"row_heading level0 row13\" >14</th>\n",
       "                        <td id=\"T_1a9ff94a_1849_11ea_98cb_000c29f689c0row13_col0\" class=\"data row13 col0\" >16:54:44</td>\n",
       "                        <td id=\"T_1a9ff94a_1849_11ea_98cb_000c29f689c0row13_col1\" class=\"data row13 col1\" >compression1</td>\n",
       "                        <td id=\"T_1a9ff94a_1849_11ea_98cb_000c29f689c0row13_col2\" class=\"data row13 col2\" >down</td>\n",
       "                        <td id=\"T_1a9ff94a_1849_11ea_98cb_000c29f689c0row13_col3\" class=\"data row13 col3\" ></td>\n",
       "                        <td id=\"T_1a9ff94a_1849_11ea_98cb_000c29f689c0row13_col4\" class=\"data row13 col4\" >None</td>\n",
       "            </tr>\n",
       "            <tr>\n",
       "                        <th id=\"T_1a9ff94a_1849_11ea_98cb_000c29f689c0level0_row14\" class=\"row_heading level0 row14\" >15</th>\n",
       "                        <td id=\"T_1a9ff94a_1849_11ea_98cb_000c29f689c0row14_col0\" class=\"data row14 col0\" >16:54:44</td>\n",
       "                        <td id=\"T_1a9ff94a_1849_11ea_98cb_000c29f689c0row14_col1\" class=\"data row14 col1\" >feed1</td>\n",
       "                        <td id=\"T_1a9ff94a_1849_11ea_98cb_000c29f689c0row14_col2\" class=\"data row14 col2\" >down</td>\n",
       "                        <td id=\"T_1a9ff94a_1849_11ea_98cb_000c29f689c0row14_col3\" class=\"data row14 col3\" ></td>\n",
       "                        <td id=\"T_1a9ff94a_1849_11ea_98cb_000c29f689c0row14_col4\" class=\"data row14 col4\" >None</td>\n",
       "            </tr>\n",
       "            <tr>\n",
       "                        <th id=\"T_1a9ff94a_1849_11ea_98cb_000c29f689c0level0_row15\" class=\"row_heading level0 row15\" >16</th>\n",
       "                        <td id=\"T_1a9ff94a_1849_11ea_98cb_000c29f689c0row15_col0\" class=\"data row15 col0\" >16:54:44</td>\n",
       "                        <td id=\"T_1a9ff94a_1849_11ea_98cb_000c29f689c0row15_col1\" class=\"data row15 col1\" >chainedtp1</td>\n",
       "                        <td id=\"T_1a9ff94a_1849_11ea_98cb_000c29f689c0row15_col2\" class=\"data row15 col2\" >down</td>\n",
       "                        <td id=\"T_1a9ff94a_1849_11ea_98cb_000c29f689c0row15_col3\" class=\"data row15 col3\" ></td>\n",
       "                        <td id=\"T_1a9ff94a_1849_11ea_98cb_000c29f689c0row15_col4\" class=\"data row15 col4\" >None</td>\n",
       "            </tr>\n",
       "            <tr>\n",
       "                        <th id=\"T_1a9ff94a_1849_11ea_98cb_000c29f689c0level0_row16\" class=\"row_heading level0 row16\" >17</th>\n",
       "                        <td id=\"T_1a9ff94a_1849_11ea_98cb_000c29f689c0row16_col0\" class=\"data row16 col0\" >16:54:44</td>\n",
       "                        <td id=\"T_1a9ff94a_1849_11ea_98cb_000c29f689c0row16_col1\" class=\"data row16 col1\" >sortslave1</td>\n",
       "                        <td id=\"T_1a9ff94a_1849_11ea_98cb_000c29f689c0row16_col2\" class=\"data row16 col2\" >down</td>\n",
       "                        <td id=\"T_1a9ff94a_1849_11ea_98cb_000c29f689c0row16_col3\" class=\"data row16 col3\" ></td>\n",
       "                        <td id=\"T_1a9ff94a_1849_11ea_98cb_000c29f689c0row16_col4\" class=\"data row16 col4\" >None</td>\n",
       "            </tr>\n",
       "            <tr>\n",
       "                        <th id=\"T_1a9ff94a_1849_11ea_98cb_000c29f689c0level0_row17\" class=\"row_heading level0 row17\" >18</th>\n",
       "                        <td id=\"T_1a9ff94a_1849_11ea_98cb_000c29f689c0row17_col0\" class=\"data row17 col0\" >16:54:44</td>\n",
       "                        <td id=\"T_1a9ff94a_1849_11ea_98cb_000c29f689c0row17_col1\" class=\"data row17 col1\" >sortslave2</td>\n",
       "                        <td id=\"T_1a9ff94a_1849_11ea_98cb_000c29f689c0row17_col2\" class=\"data row17 col2\" >down</td>\n",
       "                        <td id=\"T_1a9ff94a_1849_11ea_98cb_000c29f689c0row17_col3\" class=\"data row17 col3\" ></td>\n",
       "                        <td id=\"T_1a9ff94a_1849_11ea_98cb_000c29f689c0row17_col4\" class=\"data row17 col4\" >None</td>\n",
       "            </tr>\n",
       "            <tr>\n",
       "                        <th id=\"T_1a9ff94a_1849_11ea_98cb_000c29f689c0level0_row18\" class=\"row_heading level0 row18\" >19</th>\n",
       "                        <td id=\"T_1a9ff94a_1849_11ea_98cb_000c29f689c0row18_col0\" class=\"data row18 col0\" >16:54:44</td>\n",
       "                        <td id=\"T_1a9ff94a_1849_11ea_98cb_000c29f689c0row18_col1\" class=\"data row18 col1\" >metrics1</td>\n",
       "                        <td id=\"T_1a9ff94a_1849_11ea_98cb_000c29f689c0row18_col2\" class=\"data row18 col2\" >down</td>\n",
       "                        <td id=\"T_1a9ff94a_1849_11ea_98cb_000c29f689c0row18_col3\" class=\"data row18 col3\" ></td>\n",
       "                        <td id=\"T_1a9ff94a_1849_11ea_98cb_000c29f689c0row18_col4\" class=\"data row18 col4\" >None</td>\n",
       "            </tr>\n",
       "            <tr>\n",
       "                        <th id=\"T_1a9ff94a_1849_11ea_98cb_000c29f689c0level0_row19\" class=\"row_heading level0 row19\" >20</th>\n",
       "                        <td id=\"T_1a9ff94a_1849_11ea_98cb_000c29f689c0row19_col0\" class=\"data row19 col0\" >16:54:44</td>\n",
       "                        <td id=\"T_1a9ff94a_1849_11ea_98cb_000c29f689c0row19_col1\" class=\"data row19 col1\" >iexfeed1</td>\n",
       "                        <td id=\"T_1a9ff94a_1849_11ea_98cb_000c29f689c0row19_col2\" class=\"data row19 col2\" >down</td>\n",
       "                        <td id=\"T_1a9ff94a_1849_11ea_98cb_000c29f689c0row19_col3\" class=\"data row19 col3\" ></td>\n",
       "                        <td id=\"T_1a9ff94a_1849_11ea_98cb_000c29f689c0row19_col4\" class=\"data row19 col4\" >None</td>\n",
       "            </tr>\n",
       "    </tbody></table>"
      ],
      "text/plain": [
       "<pandas.io.formats.style.Styler at 0x7fe15c87d208>"
      ]
     },
     "execution_count": 162,
     "metadata": {},
     "output_type": "execute_result"
    }
   ],
   "source": [
    "#run torq summary\n",
    "torq_sum= !\"${TORQHOME}\"/torq.sh summary\n",
    "\n",
    "#convert array to numpy array\n",
    "summary=np.asarray(torq_sum)\n",
    "\n",
    "#split each element of array by | character\n",
    "sum_list = [i.split('|') for i in summary]\n",
    "df = pd.DataFrame(sum_list)\n",
    "\n",
    "# take first row and use as header for df\n",
    "new_header = df.iloc[0]\n",
    "df = df[1:]\n",
    "df.columns = new_header\n",
    "\n",
    "#trim whitespace from headers\n",
    "cols=[]\n",
    "for i in df.columns:\n",
    "    cols.append(str.strip(i))\n",
    "df.columns=cols\n",
    "\n",
    "#trim whitespace from all objects within dataframe\n",
    "data = df.select_dtypes(['object'])\n",
    "df[data.columns] = df.apply(lambda x: x.str.strip())\n",
    "\n",
    "#function to extract status of processes - takes a string argument\n",
    "def stat_proc(process):\n",
    "    process_info = df.loc[df['PROCESS'] == process]\n",
    "    STAT = process_info['STATUS'].astype(str)\n",
    "    return STAT\n",
    "\n",
    "# function to extract the port number for each process - takes a string argument\n",
    "def find_portno(process):\n",
    "    process_info = df.loc[df['PROCESS'] == process]\n",
    "    PORT = process_info['PORT'].astype(str).astype(int)\n",
    "    return PORT\n",
    "\n",
    "# function to extract the port number for each process - takes a string argument\n",
    "def find_pid(process):\n",
    "    process_info = df.loc[df['PROCESS'] == process]\n",
    "    PID = process_info['PID'].astype(str).astype(int)\n",
    "    return PID\n",
    "\n",
    "#function to decode bytes to strings\n",
    "def byte_decode(table,cols):\n",
    "    table[cols] = table[cols].applymap(lambda x: x.decode('utf-8'))\n",
    "\n",
    "#function to print mem and cpu stats\n",
    "def print_mem_stats(pid):\n",
    "    with open(\"tmp.txt\",\"a\") as file:\n",
    "        with rd_so(file):\n",
    "            return (psutil.Process(pid)).memory_percent()\n",
    "def print_cpu_stats(pid):\n",
    "    with open(\"tmp.txt\",\"a\") as file:\n",
    "        with rd_so(file):\n",
    "            return (psutil.Process(pid)).cpu_percent(interval =1.0)\n",
    "\n",
    "if stat_proc(\"tickerplant1\").tolist() == [\"down\"]:\n",
    "    print(\"Please check if the following processes are all up: Tickerplant1, rdb1, hdb1\")\n",
    "else:\n",
    "    #return PIDs\n",
    "    df.replace('', np.nan, inplace=True)\n",
    "    pids = df[\"PID\"]\n",
    "    pids = pids.dropna()\n",
    "    pids = [int(i) for i in pids]\n",
    "    \n",
    "    #create array of mem and cpu stats        \n",
    "    mems=[]\n",
    "    cpus=[]\n",
    "    \n",
    "    for pid in pids:\n",
    "        mems.append(print_mem_stats(pid));\n",
    "        cpus.append(print_cpu_stats(pid))\n",
    "        \n",
    "    #insert 0 into cpu/mem for processes that are down     \n",
    "    nopid = df[df['PID'].isnull()].index.tolist()\n",
    "    for i in range(len(nopid)):\n",
    "        mems.insert((nopid[i]-1),0)\n",
    "        cpus.insert((nopid[i]-1),0)\n",
    "    \n",
    "    #append mem and cpu onto summary table    \n",
    "    df['%MEM']=mems\n",
    "    df['%CPU']=cpus\n",
    "    df=df.round({'%MEM':1})\n",
    "    \n",
    "    \n",
    "# set colour on down processes to red and up processes to green\n",
    "def colour_down_red(col):\n",
    "    color = 'red' if 'down' in col else 'green'\n",
    "    return 'color: %s' % color\n",
    "df.style.applymap(colour_down_red, subset=['STATUS'])"
   ]
  },
  {
   "cell_type": "markdown",
   "metadata": {},
   "source": [
    "### Count of tables in Tickerplant \n",
    "\n",
    "Table to show the count in each table found in the Tickerplant \n",
    "* The counts in each of these tables should be 0, as the Tickerplant should not be storing any data.\n",
    "* If the counts in any of these tables is not 0, this could indicate a slow subscriber."
   ]
  },
  {
   "cell_type": "code",
   "execution_count": 163,
   "metadata": {},
   "outputs": [
    {
     "name": "stdout",
     "output_type": "stream",
     "text": [
      "The Tickerplant process is down. Unable to count tables in Tickerplant\n"
     ]
    }
   ],
   "source": [
    "if stat_proc(\"tickerplant1\").tolist() == [\"up\"]:\n",
    "    with qcon(host, port=find_portno('tickerplant1'), username=un, password=pswd,timeout=3.0) as q:\n",
    "        #counts tickerplant tables\n",
    "        tablecounts = q(\"enlist tables[]!count each value each tables[]\", pandas=True)\n",
    "    display(tablecounts)\n",
    "else:\n",
    "    print('The Tickerplant process is down. Unable to count tables in Tickerplant')"
   ]
  },
  {
   "cell_type": "markdown",
   "metadata": {},
   "source": [
    "### Tickerplant Log file size increasing\n",
    "\n",
    "Checks if log messages in the log file of the tickerplant is increasing.\n",
    "   * If log messages are increasing, the tickerplant is receiving data.\n",
    "   * If log messages are not increasing, the tickerplant may not be recieving data. \n"
   ]
  },
  {
   "cell_type": "code",
   "execution_count": 164,
   "metadata": {},
   "outputs": [
    {
     "name": "stdout",
     "output_type": "stream",
     "text": [
      "Tickerplant process is down. Unable to check if Tickerplant log files are increasing.\n"
     ]
    }
   ],
   "source": [
    "if stat_proc(\"tickerplant1\").tolist() == [\"up\"]:\n",
    "    with qcon(host, port=find_portno('tickerplant1'), username=un, password=pswd,timeout=3.0) as q:\n",
    "        #counts log file size is increasing \n",
    "        log1=(q(\"hcount .u.L\"))\n",
    "        time.sleep(2)\n",
    "        log2=(q(\"hcount .u.L\"))\n",
    "        print (\"Log file sizes are increasing: \", log1<log2)\n",
    "else:\n",
    "    print('Tickerplant process is down. Unable to check if Tickerplant log files are increasing.')"
   ]
  },
  {
   "cell_type": "markdown",
   "metadata": {},
   "source": [
    "### Process handles connected to Tickerplant\n",
    "\n",
    "Table to show the handles of processes connected to the tickerplant and if there are any slow subscribers.\n",
    "  *  A process may be a slow subscriber if there is a number value in the output queue."
   ]
  },
  {
   "cell_type": "code",
   "execution_count": 165,
   "metadata": {
    "scrolled": true
   },
   "outputs": [
    {
     "name": "stdout",
     "output_type": "stream",
     "text": [
      "The Tickerplant process is down. Unable to check process handles connected to Tickerplant.\n"
     ]
    }
   ],
   "source": [
    "if stat_proc(\"tickerplant1\").tolist() == [\"up\"]:\n",
    "    with qcon(host, port=find_portno('tickerplant1'), username=un, password=pswd,timeout=3.0) as q:\n",
    "    # \n",
    "        zW=q(\".z.W[]\", pandas=True)\n",
    "        hprocesses=q(\"asc select w,u from .clients.clients\", pandas=True)\n",
    "        byte_decode(hprocesses, ['u'])\n",
    "    # assign columns with new names\n",
    "        keys=pd.DataFrame(zW.keys, columns=['handles'])\n",
    "        values=pd.DataFrame(zW.values, columns=['output queue'])\n",
    "        hprocesses=hprocesses.rename(columns={'u':'processes'})\n",
    "    # apply new names\n",
    "        zW2=keys.join(values)\n",
    "    # join zW2 and hprocesses\n",
    "        zW2=zW2.join(hprocesses.processes)\n",
    "        zW2.set_index('handles', inplace=True)\n",
    "        display(zW2)\n",
    "else:\n",
    "    print('The Tickerplant process is down. Unable to check process handles connected to Tickerplant.')"
   ]
  },
  {
   "cell_type": "markdown",
   "metadata": {},
   "source": [
    "# RDB Results"
   ]
  },
  {
   "cell_type": "code",
   "execution_count": 166,
   "metadata": {},
   "outputs": [
    {
     "name": "stdout",
     "output_type": "stream",
     "text": [
      "The RDB process is down.\n"
     ]
    }
   ],
   "source": [
    "if stat_proc(\"rdb1\").tolist() == [\"up\"]:\n",
    "    with qcon(host, port=find_portno('rdb1'), username=un, password=pswd,timeout=3.0) as q:\n",
    "        #Check tables in rdb are same as tables in tickerplant \n",
    "        tables = q('all 1_tables[] in ((exec w from .servers.SERVERS where proctype=`tickerplant)0)(\"tables[]\")')\n",
    "        #Check count of tables in rdb - data is being sent from the tickerplant \n",
    "        tptordb = q('enlist tables[]!count each value each tables[]', pandas=True)\n",
    "        #Check that data in table can be queried\n",
    "        rdbtquery=q('5#select from last tables[]', pandas=True)\n",
    "        byte_decode(rdbtquery,['sym'])\n",
    "        tabname=q('last tables[]')\n",
    "        #Check that only data from today is present in the rdb tables\n",
    "        onedatet = q('`date$first .rdb.getpartition[]')\n",
    "else:\n",
    "    print('The RDB process is down.')"
   ]
  },
  {
   "cell_type": "markdown",
   "metadata": {},
   "source": [
    "### RDB tables\n",
    "\n",
    "Checks if the tables in the rdb are the same as the tables in the Tickerplant."
   ]
  },
  {
   "cell_type": "code",
   "execution_count": 167,
   "metadata": {},
   "outputs": [
    {
     "name": "stdout",
     "output_type": "stream",
     "text": [
      "Unable to check if tables in RDB are the same as Tickerplant tables.\n"
     ]
    }
   ],
   "source": [
    "if stat_proc(\"rdb1\").tolist() == [\"up\"]:\n",
    "    print (\"RDB tables are same as Tickerplant tables : \", tables)\n",
    "else:\n",
    "    print('Unable to check if tables in RDB are the same as Tickerplant tables.')"
   ]
  },
  {
   "cell_type": "markdown",
   "metadata": {},
   "source": [
    "### RDB table counts\n",
    "\n",
    "Checks to see if data is being sent from the Tickerplant to the RDB\n",
    "* Counts for heartbeat and logmsg should be 0\n",
    "* If counts for the other tables are 0, the RDB has been sent no data for today"
   ]
  },
  {
   "cell_type": "code",
   "execution_count": 168,
   "metadata": {},
   "outputs": [
    {
     "name": "stdout",
     "output_type": "stream",
     "text": [
      "Unable to count RDB tables.\n"
     ]
    }
   ],
   "source": [
    "if stat_proc(\"rdb1\").tolist() == [\"up\"]:\n",
    "    test2 = tptordb.set_index(tptordb.columns.tolist())\n",
    "    display(test2)\n",
    "else:\n",
    "    print('Unable to count RDB tables.')"
   ]
  },
  {
   "cell_type": "markdown",
   "metadata": {},
   "source": [
    "### RDB Query\n",
    "Checks to see if tables in the RDB can be queried "
   ]
  },
  {
   "cell_type": "code",
   "execution_count": 169,
   "metadata": {},
   "outputs": [
    {
     "name": "stdout",
     "output_type": "stream",
     "text": [
      "Unable to query RDB tables.\n"
     ]
    }
   ],
   "source": [
    "if stat_proc(\"rdb1\").tolist() == [\"up\"]:\n",
    "    print ('Table to be queried:')\n",
    "    name = tabname.decode('UTF-8')\n",
    "    print (name)\n",
    "    display(rdbtquery)\n",
    "else:\n",
    "    print('Unable to query RDB tables.')"
   ]
  },
  {
   "cell_type": "markdown",
   "metadata": {},
   "source": [
    "### RDB Date Checks\n",
    "Check to see what date is in RDB tables"
   ]
  },
  {
   "cell_type": "code",
   "execution_count": 170,
   "metadata": {},
   "outputs": [
    {
     "name": "stdout",
     "output_type": "stream",
     "text": [
      "Unable to check date in RDB tables.\n"
     ]
    }
   ],
   "source": [
    "if stat_proc(\"rdb1\").tolist() == [\"up\"]:\n",
    "    display(str(onedatet)[0:10])\n",
    "else:\n",
    "    print('Unable to check date in RDB tables.')"
   ]
  },
  {
   "cell_type": "markdown",
   "metadata": {},
   "source": [
    "# HDB Results\n"
   ]
  },
  {
   "cell_type": "code",
   "execution_count": 171,
   "metadata": {},
   "outputs": [
    {
     "name": "stdout",
     "output_type": "stream",
     "text": [
      "The HDB process is down.\n"
     ]
    }
   ],
   "source": [
    "if stat_proc(\"hdb1\").tolist() == [\"up\"]:\n",
    "    with qcon(host, port=find_portno('hdb1'), username=un, password=pswd,timeout=10.0) as q:\n",
    "        #Check hdb table counts excl. eod_summary and eod_summary_iex\n",
    "        hdbtablecount=q('raze{0!select table:x,cnt:count i by date from x where date >=.z.d-5}each tables[] except `heartbeat`logmsg', pandas=True)\n",
    "else:\n",
    "    print('The HDB process is down.')"
   ]
  },
  {
   "cell_type": "markdown",
   "metadata": {},
   "source": [
    "### HDB Table Counts\n",
    "* Counts for heartbeat and logmsg should be 0\n",
    "* If counts for other tables are 0, no data has been recieved for the day before"
   ]
  },
  {
   "cell_type": "code",
   "execution_count": 172,
   "metadata": {},
   "outputs": [
    {
     "name": "stdout",
     "output_type": "stream",
     "text": [
      "Unable to count HDB tables.\n"
     ]
    }
   ],
   "source": [
    "if stat_proc(\"hdb1\").tolist() == [\"up\"]:\n",
    "    if isinstance(hdbtablecount, pd.DataFrame):\n",
    "        byte_decode(hdbtablecount,['table'])\n",
    "        display(hdbtablecount.set_index(hdbtablecount.columns.tolist()))\n",
    "    else:\n",
    "        print('There is no data in the HDB')\n",
    "else:\n",
    "    print('Unable to count HDB tables.')"
   ]
  },
  {
   "cell_type": "code",
   "execution_count": null,
   "metadata": {},
   "outputs": [],
   "source": []
  }
 ],
 "metadata": {
  "kernelspec": {
   "display_name": "Python 3",
   "language": "python",
   "name": "python3"
  },
  "language_info": {
   "codemirror_mode": {
    "name": "ipython",
    "version": 3
   },
   "file_extension": ".py",
   "mimetype": "text/x-python",
   "name": "python",
   "nbconvert_exporter": "python",
   "pygments_lexer": "ipython3",
   "version": "3.6.9"
  }
 },
 "nbformat": 4,
 "nbformat_minor": 2
}
